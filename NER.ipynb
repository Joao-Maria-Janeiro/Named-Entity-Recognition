{
  "nbformat": 4,
  "nbformat_minor": 0,
  "metadata": {
    "kernelspec": {
      "display_name": "Python 3",
      "language": "python",
      "name": "python3"
    },
    "language_info": {
      "codemirror_mode": {
        "name": "ipython",
        "version": 3
      },
      "file_extension": ".py",
      "mimetype": "text/x-python",
      "name": "python",
      "nbconvert_exporter": "python",
      "pygments_lexer": "ipython3",
      "version": "3.8.9"
    },
    "colab": {
      "name": "NER",
      "provenance": [],
      "collapsed_sections": []
    }
  },
  "cells": [
    {
      "cell_type": "code",
      "metadata": {
        "id": "4jcXYW0j0b1J"
      },
      "source": [
        "! pip install -q kaggle"
      ],
      "execution_count": 1,
      "outputs": []
    },
    {
      "cell_type": "code",
      "metadata": {
        "id": "BQvwBA1C1BYq",
        "colab": {
          "resources": {
            "http://localhost:8080/nbextensions/google.colab/files.js": {
              "data": "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",
              "ok": true,
              "headers": [
                [
                  "content-type",
                  "application/javascript"
                ]
              ],
              "status": 200,
              "status_text": ""
            }
          },
          "base_uri": "https://localhost:8080/",
          "height": 89
        },
        "outputId": "e3903d9f-6ffb-4f78-e6f7-90f1b3d5926a"
      },
      "source": [
        "from google.colab import files\n",
        "\n",
        "files.upload()"
      ],
      "execution_count": 2,
      "outputs": [
        {
          "output_type": "display_data",
          "data": {
            "text/html": [
              "\n",
              "     <input type=\"file\" id=\"files-8c32326a-fbeb-46c8-9dd5-d4325c7b4ff0\" name=\"files[]\" multiple disabled\n",
              "        style=\"border:none\" />\n",
              "     <output id=\"result-8c32326a-fbeb-46c8-9dd5-d4325c7b4ff0\">\n",
              "      Upload widget is only available when the cell has been executed in the\n",
              "      current browser session. Please rerun this cell to enable.\n",
              "      </output>\n",
              "      <script src=\"/nbextensions/google.colab/files.js\"></script> "
            ],
            "text/plain": [
              "<IPython.core.display.HTML object>"
            ]
          },
          "metadata": {
            "tags": []
          }
        },
        {
          "output_type": "stream",
          "text": [
            "Saving kaggle.json to kaggle.json\n"
          ],
          "name": "stdout"
        },
        {
          "output_type": "execute_result",
          "data": {
            "text/plain": [
              "{'kaggle.json': b'{\"username\":\"joaomariajaneiro\",\"key\":\"5cd03f4f8afc6a93ebda8b93c8daf620\"}'}"
            ]
          },
          "metadata": {
            "tags": []
          },
          "execution_count": 2
        }
      ]
    },
    {
      "cell_type": "code",
      "metadata": {
        "id": "Cfk5_KKk0b1P",
        "colab": {
          "base_uri": "https://localhost:8080/"
        },
        "outputId": "19ac5c51-ca72-418d-8686-c372de479dcd"
      },
      "source": [
        "%ls"
      ],
      "execution_count": 3,
      "outputs": [
        {
          "output_type": "stream",
          "text": [
            "kaggle.json  \u001b[0m\u001b[01;34msample_data\u001b[0m/\n"
          ],
          "name": "stdout"
        }
      ]
    },
    {
      "cell_type": "code",
      "metadata": {
        "id": "96ZP2QEG1GC-"
      },
      "source": [
        "! mkdir ~/.kaggle"
      ],
      "execution_count": 4,
      "outputs": []
    },
    {
      "cell_type": "code",
      "metadata": {
        "id": "dkPF0OdU0b1P"
      },
      "source": [
        "! cp kaggle.json ~/.kaggle/"
      ],
      "execution_count": 5,
      "outputs": []
    },
    {
      "cell_type": "code",
      "metadata": {
        "id": "Zjq75P4Z0b1Q",
        "colab": {
          "base_uri": "https://localhost:8080/"
        },
        "outputId": "4a0bf3fd-1f56-4836-e857-a5cd2546cd33"
      },
      "source": [
        "! ls ~/.kaggle/"
      ],
      "execution_count": 6,
      "outputs": [
        {
          "output_type": "stream",
          "text": [
            "kaggle.json\n"
          ],
          "name": "stdout"
        }
      ]
    },
    {
      "cell_type": "code",
      "metadata": {
        "id": "CJ0A361E0b1Q"
      },
      "source": [
        "! chmod 600 ~/.kaggle/kaggle.json"
      ],
      "execution_count": 7,
      "outputs": []
    },
    {
      "cell_type": "code",
      "metadata": {
        "id": "8AK7EeIj0b1Q",
        "colab": {
          "base_uri": "https://localhost:8080/"
        },
        "outputId": "edb58ad1-7de3-402f-84b2-bc5c81fec176"
      },
      "source": [
        "!kaggle datasets download -d abhinavwalia95/entity-annotated-corpus"
      ],
      "execution_count": 8,
      "outputs": [
        {
          "output_type": "stream",
          "text": [
            "Downloading entity-annotated-corpus.zip to /content\n",
            " 34% 9.00M/26.4M [00:00<00:00, 55.7MB/s]\n",
            "100% 26.4M/26.4M [00:00<00:00, 105MB/s] \n"
          ],
          "name": "stdout"
        }
      ]
    },
    {
      "cell_type": "code",
      "metadata": {
        "id": "fAFSi56A0b1R",
        "colab": {
          "base_uri": "https://localhost:8080/"
        },
        "outputId": "a33106d4-ac58-4c6a-a9b4-2dbd5fa5a039"
      },
      "source": [
        "!unzip entity-annotated-corpus.zip"
      ],
      "execution_count": 9,
      "outputs": [
        {
          "output_type": "stream",
          "text": [
            "Archive:  entity-annotated-corpus.zip\n",
            "  inflating: ner.csv                 \n",
            "  inflating: ner_dataset.csv         \n"
          ],
          "name": "stdout"
        }
      ]
    },
    {
      "cell_type": "code",
      "metadata": {
        "id": "QtjWRd3-0b1R",
        "colab": {
          "base_uri": "https://localhost:8080/",
          "height": 35
        },
        "outputId": "16ed5dd8-e22d-47f5-d8a3-f667e31eb3f2"
      },
      "source": [
        "%pwd"
      ],
      "execution_count": 10,
      "outputs": [
        {
          "output_type": "execute_result",
          "data": {
            "application/vnd.google.colaboratory.intrinsic+json": {
              "type": "string"
            },
            "text/plain": [
              "'/content'"
            ]
          },
          "metadata": {
            "tags": []
          },
          "execution_count": 10
        }
      ]
    },
    {
      "cell_type": "code",
      "metadata": {
        "id": "CRAnnYTT0b1R",
        "colab": {
          "base_uri": "https://localhost:8080/"
        },
        "outputId": "3641c9c6-ccd1-471a-b526-6fde6a057a9f"
      },
      "source": [
        "!ls"
      ],
      "execution_count": 11,
      "outputs": [
        {
          "output_type": "stream",
          "text": [
            "entity-annotated-corpus.zip  kaggle.json  ner.csv  ner_dataset.csv  sample_data\n"
          ],
          "name": "stdout"
        }
      ]
    },
    {
      "cell_type": "code",
      "metadata": {
        "id": "7g7S8VrW0b1S"
      },
      "source": [
        "import numpy as np\n",
        "import pandas as pd\n",
        "import matplotlib.pyplot as plt"
      ],
      "execution_count": 12,
      "outputs": []
    },
    {
      "cell_type": "code",
      "metadata": {
        "id": "MBX2uFt-0b1S",
        "colab": {
          "base_uri": "https://localhost:8080/",
          "height": 421
        },
        "outputId": "027bcac9-882d-4d77-8d0c-41585f6200fe"
      },
      "source": [
        "df = pd.read_csv(\"ner_dataset.csv\", encoding=\"latin1\")\n",
        "df = df.drop(['POS'], axis =1)\n",
        "df = df.fillna(method=\"ffill\")\n",
        "df.tail(12)"
      ],
      "execution_count": 13,
      "outputs": [
        {
          "output_type": "execute_result",
          "data": {
            "text/html": [
              "<div>\n",
              "<style scoped>\n",
              "    .dataframe tbody tr th:only-of-type {\n",
              "        vertical-align: middle;\n",
              "    }\n",
              "\n",
              "    .dataframe tbody tr th {\n",
              "        vertical-align: top;\n",
              "    }\n",
              "\n",
              "    .dataframe thead th {\n",
              "        text-align: right;\n",
              "    }\n",
              "</style>\n",
              "<table border=\"1\" class=\"dataframe\">\n",
              "  <thead>\n",
              "    <tr style=\"text-align: right;\">\n",
              "      <th></th>\n",
              "      <th>Sentence #</th>\n",
              "      <th>Word</th>\n",
              "      <th>Tag</th>\n",
              "    </tr>\n",
              "  </thead>\n",
              "  <tbody>\n",
              "    <tr>\n",
              "      <th>1048563</th>\n",
              "      <td>Sentence: 47958</td>\n",
              "      <td>exploded</td>\n",
              "      <td>O</td>\n",
              "    </tr>\n",
              "    <tr>\n",
              "      <th>1048564</th>\n",
              "      <td>Sentence: 47958</td>\n",
              "      <td>upon</td>\n",
              "      <td>O</td>\n",
              "    </tr>\n",
              "    <tr>\n",
              "      <th>1048565</th>\n",
              "      <td>Sentence: 47958</td>\n",
              "      <td>impact</td>\n",
              "      <td>O</td>\n",
              "    </tr>\n",
              "    <tr>\n",
              "      <th>1048566</th>\n",
              "      <td>Sentence: 47958</td>\n",
              "      <td>.</td>\n",
              "      <td>O</td>\n",
              "    </tr>\n",
              "    <tr>\n",
              "      <th>1048567</th>\n",
              "      <td>Sentence: 47959</td>\n",
              "      <td>Indian</td>\n",
              "      <td>B-gpe</td>\n",
              "    </tr>\n",
              "    <tr>\n",
              "      <th>1048568</th>\n",
              "      <td>Sentence: 47959</td>\n",
              "      <td>forces</td>\n",
              "      <td>O</td>\n",
              "    </tr>\n",
              "    <tr>\n",
              "      <th>1048569</th>\n",
              "      <td>Sentence: 47959</td>\n",
              "      <td>said</td>\n",
              "      <td>O</td>\n",
              "    </tr>\n",
              "    <tr>\n",
              "      <th>1048570</th>\n",
              "      <td>Sentence: 47959</td>\n",
              "      <td>they</td>\n",
              "      <td>O</td>\n",
              "    </tr>\n",
              "    <tr>\n",
              "      <th>1048571</th>\n",
              "      <td>Sentence: 47959</td>\n",
              "      <td>responded</td>\n",
              "      <td>O</td>\n",
              "    </tr>\n",
              "    <tr>\n",
              "      <th>1048572</th>\n",
              "      <td>Sentence: 47959</td>\n",
              "      <td>to</td>\n",
              "      <td>O</td>\n",
              "    </tr>\n",
              "    <tr>\n",
              "      <th>1048573</th>\n",
              "      <td>Sentence: 47959</td>\n",
              "      <td>the</td>\n",
              "      <td>O</td>\n",
              "    </tr>\n",
              "    <tr>\n",
              "      <th>1048574</th>\n",
              "      <td>Sentence: 47959</td>\n",
              "      <td>attack</td>\n",
              "      <td>O</td>\n",
              "    </tr>\n",
              "  </tbody>\n",
              "</table>\n",
              "</div>"
            ],
            "text/plain": [
              "              Sentence #       Word    Tag\n",
              "1048563  Sentence: 47958   exploded      O\n",
              "1048564  Sentence: 47958       upon      O\n",
              "1048565  Sentence: 47958     impact      O\n",
              "1048566  Sentence: 47958          .      O\n",
              "1048567  Sentence: 47959     Indian  B-gpe\n",
              "1048568  Sentence: 47959     forces      O\n",
              "1048569  Sentence: 47959       said      O\n",
              "1048570  Sentence: 47959       they      O\n",
              "1048571  Sentence: 47959  responded      O\n",
              "1048572  Sentence: 47959         to      O\n",
              "1048573  Sentence: 47959        the      O\n",
              "1048574  Sentence: 47959     attack      O"
            ]
          },
          "metadata": {
            "tags": []
          },
          "execution_count": 13
        }
      ]
    },
    {
      "cell_type": "code",
      "metadata": {
        "colab": {
          "base_uri": "https://localhost:8080/"
        },
        "id": "xCYwKYeJ6FkW",
        "outputId": "273816e2-d4a8-47e8-a02a-2e7d3781a673"
      },
      "source": [
        "words = set(list(df['Word'].values))\n",
        "words.add('PADDING')\n",
        "n_words = len(words)\n",
        "n_words"
      ],
      "execution_count": 14,
      "outputs": [
        {
          "output_type": "execute_result",
          "data": {
            "text/plain": [
              "35179"
            ]
          },
          "metadata": {
            "tags": []
          },
          "execution_count": 14
        }
      ]
    },
    {
      "cell_type": "code",
      "metadata": {
        "scrolled": true,
        "id": "VYgX6OmI0b1S",
        "colab": {
          "base_uri": "https://localhost:8080/",
          "height": 204
        },
        "outputId": "9725e92c-0fc0-469c-cf47-a167c38ff201"
      },
      "source": [
        "df.head()"
      ],
      "execution_count": 15,
      "outputs": [
        {
          "output_type": "execute_result",
          "data": {
            "text/html": [
              "<div>\n",
              "<style scoped>\n",
              "    .dataframe tbody tr th:only-of-type {\n",
              "        vertical-align: middle;\n",
              "    }\n",
              "\n",
              "    .dataframe tbody tr th {\n",
              "        vertical-align: top;\n",
              "    }\n",
              "\n",
              "    .dataframe thead th {\n",
              "        text-align: right;\n",
              "    }\n",
              "</style>\n",
              "<table border=\"1\" class=\"dataframe\">\n",
              "  <thead>\n",
              "    <tr style=\"text-align: right;\">\n",
              "      <th></th>\n",
              "      <th>Sentence #</th>\n",
              "      <th>Word</th>\n",
              "      <th>Tag</th>\n",
              "    </tr>\n",
              "  </thead>\n",
              "  <tbody>\n",
              "    <tr>\n",
              "      <th>0</th>\n",
              "      <td>Sentence: 1</td>\n",
              "      <td>Thousands</td>\n",
              "      <td>O</td>\n",
              "    </tr>\n",
              "    <tr>\n",
              "      <th>1</th>\n",
              "      <td>Sentence: 1</td>\n",
              "      <td>of</td>\n",
              "      <td>O</td>\n",
              "    </tr>\n",
              "    <tr>\n",
              "      <th>2</th>\n",
              "      <td>Sentence: 1</td>\n",
              "      <td>demonstrators</td>\n",
              "      <td>O</td>\n",
              "    </tr>\n",
              "    <tr>\n",
              "      <th>3</th>\n",
              "      <td>Sentence: 1</td>\n",
              "      <td>have</td>\n",
              "      <td>O</td>\n",
              "    </tr>\n",
              "    <tr>\n",
              "      <th>4</th>\n",
              "      <td>Sentence: 1</td>\n",
              "      <td>marched</td>\n",
              "      <td>O</td>\n",
              "    </tr>\n",
              "  </tbody>\n",
              "</table>\n",
              "</div>"
            ],
            "text/plain": [
              "    Sentence #           Word Tag\n",
              "0  Sentence: 1      Thousands   O\n",
              "1  Sentence: 1             of   O\n",
              "2  Sentence: 1  demonstrators   O\n",
              "3  Sentence: 1           have   O\n",
              "4  Sentence: 1        marched   O"
            ]
          },
          "metadata": {
            "tags": []
          },
          "execution_count": 15
        }
      ]
    },
    {
      "cell_type": "code",
      "metadata": {
        "colab": {
          "base_uri": "https://localhost:8080/"
        },
        "id": "MDgk6WBR6WXK",
        "outputId": "39ad25db-9487-402a-e2f2-9684de4bc854"
      },
      "source": [
        "tags = list(set(df[\"Tag\"].values))\n",
        "n_tags = len(tags)\n",
        "n_tags"
      ],
      "execution_count": 16,
      "outputs": [
        {
          "output_type": "execute_result",
          "data": {
            "text/plain": [
              "17"
            ]
          },
          "metadata": {
            "tags": []
          },
          "execution_count": 16
        }
      ]
    },
    {
      "cell_type": "code",
      "metadata": {
        "id": "ZQOU21WX0b1T"
      },
      "source": [
        "class SentenceGetter(object):\n",
        "    \n",
        "    def __init__(self, data):\n",
        "        self.n_sent = 1\n",
        "        self.data = data\n",
        "        self.empty = False\n",
        "        agg_func = lambda s: [(w, t) for w, t in zip(\n",
        "                                                    s[\"Word\"].values.tolist(),\n",
        "                                                     s[\"Tag\"].values.tolist())]\n",
        "        self.grouped = self.data.groupby(\"Sentence #\").apply(agg_func)\n",
        "        self.sentences = [s for s in self.grouped]\n",
        "    \n",
        "    def get_next(self):\n",
        "        try:\n",
        "            s = self.grouped[\"Sentence: {}\".format(self.n_sent)]\n",
        "            self.n_sent += 1\n",
        "            return s\n",
        "        except:\n",
        "            return None"
      ],
      "execution_count": 17,
      "outputs": []
    },
    {
      "cell_type": "code",
      "metadata": {
        "id": "-y4kGWI70b1U",
        "colab": {
          "base_uri": "https://localhost:8080/"
        },
        "outputId": "f0cea851-b249-4d75-fd6b-6f7a49ed2b91"
      },
      "source": [
        "getter = SentenceGetter(df)\n",
        "sent = getter.get_next()\n",
        "print(sent)"
      ],
      "execution_count": 18,
      "outputs": [
        {
          "output_type": "stream",
          "text": [
            "[('Thousands', 'O'), ('of', 'O'), ('demonstrators', 'O'), ('have', 'O'), ('marched', 'O'), ('through', 'O'), ('London', 'B-geo'), ('to', 'O'), ('protest', 'O'), ('the', 'O'), ('war', 'O'), ('in', 'O'), ('Iraq', 'B-geo'), ('and', 'O'), ('demand', 'O'), ('the', 'O'), ('withdrawal', 'O'), ('of', 'O'), ('British', 'B-gpe'), ('troops', 'O'), ('from', 'O'), ('that', 'O'), ('country', 'O'), ('.', 'O')]\n"
          ],
          "name": "stdout"
        }
      ]
    },
    {
      "cell_type": "code",
      "metadata": {
        "id": "JFaTmO4K0b1U",
        "colab": {
          "base_uri": "https://localhost:8080/"
        },
        "outputId": "3005a7e8-1d6a-4bbd-bd5f-b68872feb365"
      },
      "source": [
        "getter.grouped"
      ],
      "execution_count": 19,
      "outputs": [
        {
          "output_type": "execute_result",
          "data": {
            "text/plain": [
              "Sentence #\n",
              "Sentence: 1        [(Thousands, O), (of, O), (demonstrators, O), ...\n",
              "Sentence: 10       [(Iranian, B-gpe), (officials, O), (say, O), (...\n",
              "Sentence: 100      [(Helicopter, O), (gunships, O), (Saturday, B-...\n",
              "Sentence: 1000     [(They, O), (left, O), (after, O), (a, O), (te...\n",
              "Sentence: 10000    [(U.N., B-geo), (relief, O), (coordinator, O),...\n",
              "                                         ...                        \n",
              "Sentence: 9995     [(Opposition, O), (leader, O), (Mir, O), (Hoss...\n",
              "Sentence: 9996     [(On, O), (Thursday, B-tim), (,, O), (Iranian,...\n",
              "Sentence: 9997     [(Following, O), (Iran, B-geo), ('s, O), (disp...\n",
              "Sentence: 9998     [(Since, O), (then, O), (,, O), (authorities, ...\n",
              "Sentence: 9999     [(The, O), (United, B-org), (Nations, I-org), ...\n",
              "Length: 47959, dtype: object"
            ]
          },
          "metadata": {
            "tags": []
          },
          "execution_count": 19
        }
      ]
    },
    {
      "cell_type": "code",
      "metadata": {
        "colab": {
          "base_uri": "https://localhost:8080/"
        },
        "id": "H_s-VuAt7Opt",
        "outputId": "7c206a20-60d2-4039-ef04-1fad741f2a39"
      },
      "source": [
        "sentences = getter.sentences\n",
        "print(len(sentences))"
      ],
      "execution_count": 20,
      "outputs": [
        {
          "output_type": "stream",
          "text": [
            "47959\n"
          ],
          "name": "stdout"
        }
      ]
    },
    {
      "cell_type": "code",
      "metadata": {
        "colab": {
          "base_uri": "https://localhost:8080/"
        },
        "id": "_QZylo1R7PdL",
        "outputId": "b8964fcf-921d-4bc2-ddc2-a067fd8224a3"
      },
      "source": [
        "largest_sen = max(len(sen) for sen in sentences)\n",
        "print('biggest sentence has {} words'.format(largest_sen))"
      ],
      "execution_count": 21,
      "outputs": [
        {
          "output_type": "stream",
          "text": [
            "biggest sentence has 104 words\n"
          ],
          "name": "stdout"
        }
      ]
    },
    {
      "cell_type": "code",
      "metadata": {
        "id": "-4F_BNoJ0b1U",
        "colab": {
          "base_uri": "https://localhost:8080/"
        },
        "outputId": "c111be84-1b37-4baf-bb7e-afbe9ba14d71"
      },
      "source": [
        "# Go through each tripplet of sentence (word, pos, tag) and get all words of a sentece\n",
        "X = [[w[0]for w in s] for s in sentences]\n",
        "X[0]"
      ],
      "execution_count": 22,
      "outputs": [
        {
          "output_type": "execute_result",
          "data": {
            "text/plain": [
              "['Thousands',\n",
              " 'of',\n",
              " 'demonstrators',\n",
              " 'have',\n",
              " 'marched',\n",
              " 'through',\n",
              " 'London',\n",
              " 'to',\n",
              " 'protest',\n",
              " 'the',\n",
              " 'war',\n",
              " 'in',\n",
              " 'Iraq',\n",
              " 'and',\n",
              " 'demand',\n",
              " 'the',\n",
              " 'withdrawal',\n",
              " 'of',\n",
              " 'British',\n",
              " 'troops',\n",
              " 'from',\n",
              " 'that',\n",
              " 'country',\n",
              " '.']"
            ]
          },
          "metadata": {
            "tags": []
          },
          "execution_count": 22
        }
      ]
    },
    {
      "cell_type": "code",
      "metadata": {
        "id": "CVXrjD_A0b1U",
        "colab": {
          "base_uri": "https://localhost:8080/"
        },
        "outputId": "b9d56756-2ef2-4ee0-87a1-e2974a3f45ac"
      },
      "source": [
        "# Go through each tripplet of sentence (word, pos, tag) and get all tags of a sentece\n",
        "labels = [[s[1] for s in sent] for sent in getter.sentences]\n",
        "print(labels[0])"
      ],
      "execution_count": 23,
      "outputs": [
        {
          "output_type": "stream",
          "text": [
            "['O', 'O', 'O', 'O', 'O', 'O', 'B-geo', 'O', 'O', 'O', 'O', 'O', 'B-geo', 'O', 'O', 'O', 'O', 'O', 'B-gpe', 'O', 'O', 'O', 'O', 'O']\n"
          ],
          "name": "stdout"
        }
      ]
    },
    {
      "cell_type": "code",
      "metadata": {
        "id": "4OFE4eV10b1V",
        "colab": {
          "base_uri": "https://localhost:8080/",
          "height": 265
        },
        "outputId": "efa7b2c3-a84d-4582-83a3-d18cb6053a2a"
      },
      "source": [
        "%matplotlib inline\n",
        "plt.hist([len(s) for s in sentences], bins=50)\n",
        "plt.show()"
      ],
      "execution_count": 24,
      "outputs": [
        {
          "output_type": "display_data",
          "data": {
            "image/png": "[encoded data removed]",
            "text/plain": [
              "<Figure size 432x288 with 1 Axes>"
            ]
          },
          "metadata": {
            "tags": [],
            "needs_background": "light"
          }
        }
      ]
    },
    {
      "cell_type": "code",
      "metadata": {
        "id": "jvgslFgy2B3F"
      },
      "source": [
        "max_len = 60\n",
        "new_X = []\n",
        "for seq in X:\n",
        "    new_seq = []\n",
        "    for i in range(max_len):\n",
        "        try:\n",
        "            new_seq.append(seq[i])\n",
        "        except:\n",
        "            new_seq.append(\"PADDING\")\n",
        "    new_X.append(new_seq)"
      ],
      "execution_count": 25,
      "outputs": []
    },
    {
      "cell_type": "code",
      "metadata": {
        "colab": {
          "base_uri": "https://localhost:8080/"
        },
        "id": "npU_46QA9S_O",
        "outputId": "8a02b276-e816-48ba-ec6f-3847a750e7c6"
      },
      "source": [
        "new_X[2]"
      ],
      "execution_count": 26,
      "outputs": [
        {
          "output_type": "execute_result",
          "data": {
            "text/plain": [
              "['Helicopter',\n",
              " 'gunships',\n",
              " 'Saturday',\n",
              " 'pounded',\n",
              " 'militant',\n",
              " 'hideouts',\n",
              " 'in',\n",
              " 'the',\n",
              " 'Orakzai',\n",
              " 'tribal',\n",
              " 'region',\n",
              " ',',\n",
              " 'where',\n",
              " 'many',\n",
              " 'Taliban',\n",
              " 'militants',\n",
              " 'are',\n",
              " 'believed',\n",
              " 'to',\n",
              " 'have',\n",
              " 'fled',\n",
              " 'to',\n",
              " 'avoid',\n",
              " 'an',\n",
              " 'earlier',\n",
              " 'military',\n",
              " 'offensive',\n",
              " 'in',\n",
              " 'nearby',\n",
              " 'South',\n",
              " 'Waziristan',\n",
              " '.',\n",
              " 'PADDING',\n",
              " 'PADDING',\n",
              " 'PADDING',\n",
              " 'PADDING',\n",
              " 'PADDING',\n",
              " 'PADDING',\n",
              " 'PADDING',\n",
              " 'PADDING',\n",
              " 'PADDING',\n",
              " 'PADDING',\n",
              " 'PADDING',\n",
              " 'PADDING',\n",
              " 'PADDING',\n",
              " 'PADDING',\n",
              " 'PADDING',\n",
              " 'PADDING',\n",
              " 'PADDING',\n",
              " 'PADDING',\n",
              " 'PADDING',\n",
              " 'PADDING',\n",
              " 'PADDING',\n",
              " 'PADDING',\n",
              " 'PADDING',\n",
              " 'PADDING',\n",
              " 'PADDING',\n",
              " 'PADDING',\n",
              " 'PADDING',\n",
              " 'PADDING']"
            ]
          },
          "metadata": {
            "tags": []
          },
          "execution_count": 26
        }
      ]
    },
    {
      "cell_type": "code",
      "metadata": {
        "colab": {
          "base_uri": "https://localhost:8080/"
        },
        "id": "Nb5-10b59ev6",
        "outputId": "3d747ad7-6ac8-4459-ac0f-99fb89a65160"
      },
      "source": [
        "from keras.preprocessing.sequence import pad_sequences\n",
        "\n",
        "tags2index = {t:i for i,t in enumerate(tags)}\n",
        "y = [[tags2index[w[1]] for w in s] for s in sentences]\n",
        "y = pad_sequences(maxlen=max_len, sequences=y, padding=\"post\", value=tags2index[\"O\"])\n",
        "\n",
        "y[2]"
      ],
      "execution_count": 27,
      "outputs": [
        {
          "output_type": "execute_result",
          "data": {
            "text/plain": [
              "array([ 3,  3,  2,  3,  3,  3,  3,  3, 10,  3,  3,  3,  3,  3,  4,  3,  3,\n",
              "        3,  3,  3,  3,  3,  3,  3,  3,  3,  3,  3,  3, 10,  7,  3,  3,  3,\n",
              "        3,  3,  3,  3,  3,  3,  3,  3,  3,  3,  3,  3,  3,  3,  3,  3,  3,\n",
              "        3,  3,  3,  3,  3,  3,  3,  3,  3], dtype=int32)"
            ]
          },
          "metadata": {
            "tags": []
          },
          "execution_count": 27
        }
      ]
    },
    {
      "cell_type": "code",
      "metadata": {
        "colab": {
          "base_uri": "https://localhost:8080/"
        },
        "id": "cO4LBeDrAcIA",
        "outputId": "7c75263d-84ba-48bc-8aaf-12cf98afacb3"
      },
      "source": [
        "tags2index"
      ],
      "execution_count": 28,
      "outputs": [
        {
          "output_type": "execute_result",
          "data": {
            "text/plain": [
              "{'B-art': 0,\n",
              " 'B-eve': 1,\n",
              " 'B-geo': 10,\n",
              " 'B-gpe': 16,\n",
              " 'B-nat': 9,\n",
              " 'B-org': 4,\n",
              " 'B-per': 15,\n",
              " 'B-tim': 2,\n",
              " 'I-art': 11,\n",
              " 'I-eve': 8,\n",
              " 'I-geo': 7,\n",
              " 'I-gpe': 14,\n",
              " 'I-nat': 13,\n",
              " 'I-org': 5,\n",
              " 'I-per': 12,\n",
              " 'I-tim': 6,\n",
              " 'O': 3}"
            ]
          },
          "metadata": {
            "tags": []
          },
          "execution_count": 28
        }
      ]
    },
    {
      "cell_type": "code",
      "metadata": {
        "colab": {
          "base_uri": "https://localhost:8080/"
        },
        "id": "umR1SFqaQzJg",
        "outputId": "3a4dece5-a9d7-4fd2-bc08-57f1f7cfca6f"
      },
      "source": [
        "len(tags2index)"
      ],
      "execution_count": 29,
      "outputs": [
        {
          "output_type": "execute_result",
          "data": {
            "text/plain": [
              "17"
            ]
          },
          "metadata": {
            "tags": []
          },
          "execution_count": 29
        }
      ]
    },
    {
      "cell_type": "code",
      "metadata": {
        "colab": {
          "base_uri": "https://localhost:8080/"
        },
        "id": "ikmMjM49OEd0",
        "outputId": "d9da3f23-3255-43b2-f76c-44644c3b01bf"
      },
      "source": [
        "y[0]"
      ],
      "execution_count": 30,
      "outputs": [
        {
          "output_type": "execute_result",
          "data": {
            "text/plain": [
              "array([ 3,  3,  3,  3,  3,  3, 10,  3,  3,  3,  3,  3, 10,  3,  3,  3,  3,\n",
              "        3, 16,  3,  3,  3,  3,  3,  3,  3,  3,  3,  3,  3,  3,  3,  3,  3,\n",
              "        3,  3,  3,  3,  3,  3,  3,  3,  3,  3,  3,  3,  3,  3,  3,  3,  3,\n",
              "        3,  3,  3,  3,  3,  3,  3,  3,  3], dtype=int32)"
            ]
          },
          "metadata": {
            "tags": []
          },
          "execution_count": 30
        }
      ]
    },
    {
      "cell_type": "code",
      "metadata": {
        "id": "G41HWpSnzS9v"
      },
      "source": [
        "not_padded_X = X\n",
        "X = new_X"
      ],
      "execution_count": 31,
      "outputs": []
    },
    {
      "cell_type": "code",
      "metadata": {
        "id": "526mzo1ozYsI",
        "colab": {
          "base_uri": "https://localhost:8080/"
        },
        "outputId": "3aa30b72-d9ac-4d46-d0dd-46c93020eef1"
      },
      "source": [
        "X[0]"
      ],
      "execution_count": 32,
      "outputs": [
        {
          "output_type": "execute_result",
          "data": {
            "text/plain": [
              "['Thousands',\n",
              " 'of',\n",
              " 'demonstrators',\n",
              " 'have',\n",
              " 'marched',\n",
              " 'through',\n",
              " 'London',\n",
              " 'to',\n",
              " 'protest',\n",
              " 'the',\n",
              " 'war',\n",
              " 'in',\n",
              " 'Iraq',\n",
              " 'and',\n",
              " 'demand',\n",
              " 'the',\n",
              " 'withdrawal',\n",
              " 'of',\n",
              " 'British',\n",
              " 'troops',\n",
              " 'from',\n",
              " 'that',\n",
              " 'country',\n",
              " '.',\n",
              " 'PADDING',\n",
              " 'PADDING',\n",
              " 'PADDING',\n",
              " 'PADDING',\n",
              " 'PADDING',\n",
              " 'PADDING',\n",
              " 'PADDING',\n",
              " 'PADDING',\n",
              " 'PADDING',\n",
              " 'PADDING',\n",
              " 'PADDING',\n",
              " 'PADDING',\n",
              " 'PADDING',\n",
              " 'PADDING',\n",
              " 'PADDING',\n",
              " 'PADDING',\n",
              " 'PADDING',\n",
              " 'PADDING',\n",
              " 'PADDING',\n",
              " 'PADDING',\n",
              " 'PADDING',\n",
              " 'PADDING',\n",
              " 'PADDING',\n",
              " 'PADDING',\n",
              " 'PADDING',\n",
              " 'PADDING',\n",
              " 'PADDING',\n",
              " 'PADDING',\n",
              " 'PADDING',\n",
              " 'PADDING',\n",
              " 'PADDING',\n",
              " 'PADDING',\n",
              " 'PADDING',\n",
              " 'PADDING',\n",
              " 'PADDING',\n",
              " 'PADDING']"
            ]
          },
          "metadata": {
            "tags": []
          },
          "execution_count": 32
        }
      ]
    },
    {
      "cell_type": "code",
      "metadata": {
        "id": "v7ty1kLJ3ygN"
      },
      "source": [
        "import tensorflow as tf"
      ],
      "execution_count": 33,
      "outputs": []
    },
    {
      "cell_type": "markdown",
      "metadata": {
        "id": "ZWmhuRZzMFra"
      },
      "source": [
        "# MLP with context + CRF\n",
        "\n",
        "Input: $x_i = concat([ emb[i-1], \\space emb[i], \\space emb[i+1] ])$\n",
        "\n",
        "\n",
        "$y = mlp(x_i)$  //One layer should be enough"
      ]
    },
    {
      "cell_type": "code",
      "metadata": {
        "id": "it_xlWloQDkx"
      },
      "source": [
        "word2idx = {w: i for i, w in enumerate(words)}"
      ],
      "execution_count": 34,
      "outputs": []
    },
    {
      "cell_type": "code",
      "metadata": {
        "colab": {
          "base_uri": "https://localhost:8080/",
          "height": 35
        },
        "id": "GnZ-j6SdQI0T",
        "outputId": "880c6ff8-6e5d-40c4-970e-183d5735cdd7"
      },
      "source": [
        "list(word2idx.keys())[-1]"
      ],
      "execution_count": 35,
      "outputs": [
        {
          "output_type": "execute_result",
          "data": {
            "application/vnd.google.colaboratory.intrinsic+json": {
              "type": "string"
            },
            "text/plain": [
              "'Khin'"
            ]
          },
          "metadata": {
            "tags": []
          },
          "execution_count": 35
        }
      ]
    },
    {
      "cell_type": "code",
      "metadata": {
        "colab": {
          "base_uri": "https://localhost:8080/"
        },
        "id": "AOaQ_VVNQt7I",
        "outputId": "8d2f240f-b5e0-422d-9bd8-c638a8cc8984"
      },
      "source": [
        "len(word2idx)"
      ],
      "execution_count": 36,
      "outputs": [
        {
          "output_type": "execute_result",
          "data": {
            "text/plain": [
              "35179"
            ]
          },
          "metadata": {
            "tags": []
          },
          "execution_count": 36
        }
      ]
    },
    {
      "cell_type": "code",
      "metadata": {
        "id": "Uw6i33ZuQvy_"
      },
      "source": [
        "X_indexes = [[word2idx[w] for w in sent] for sent in X]"
      ],
      "execution_count": 37,
      "outputs": []
    },
    {
      "cell_type": "code",
      "metadata": {
        "colab": {
          "base_uri": "https://localhost:8080/"
        },
        "id": "85ltuxgwRXoM",
        "outputId": "fae88555-3552-4b2a-8514-9fe61b7f06d8"
      },
      "source": [
        "X[0]"
      ],
      "execution_count": 38,
      "outputs": [
        {
          "output_type": "execute_result",
          "data": {
            "text/plain": [
              "['Thousands',\n",
              " 'of',\n",
              " 'demonstrators',\n",
              " 'have',\n",
              " 'marched',\n",
              " 'through',\n",
              " 'London',\n",
              " 'to',\n",
              " 'protest',\n",
              " 'the',\n",
              " 'war',\n",
              " 'in',\n",
              " 'Iraq',\n",
              " 'and',\n",
              " 'demand',\n",
              " 'the',\n",
              " 'withdrawal',\n",
              " 'of',\n",
              " 'British',\n",
              " 'troops',\n",
              " 'from',\n",
              " 'that',\n",
              " 'country',\n",
              " '.',\n",
              " 'PADDING',\n",
              " 'PADDING',\n",
              " 'PADDING',\n",
              " 'PADDING',\n",
              " 'PADDING',\n",
              " 'PADDING',\n",
              " 'PADDING',\n",
              " 'PADDING',\n",
              " 'PADDING',\n",
              " 'PADDING',\n",
              " 'PADDING',\n",
              " 'PADDING',\n",
              " 'PADDING',\n",
              " 'PADDING',\n",
              " 'PADDING',\n",
              " 'PADDING',\n",
              " 'PADDING',\n",
              " 'PADDING',\n",
              " 'PADDING',\n",
              " 'PADDING',\n",
              " 'PADDING',\n",
              " 'PADDING',\n",
              " 'PADDING',\n",
              " 'PADDING',\n",
              " 'PADDING',\n",
              " 'PADDING',\n",
              " 'PADDING',\n",
              " 'PADDING',\n",
              " 'PADDING',\n",
              " 'PADDING',\n",
              " 'PADDING',\n",
              " 'PADDING',\n",
              " 'PADDING',\n",
              " 'PADDING',\n",
              " 'PADDING',\n",
              " 'PADDING']"
            ]
          },
          "metadata": {
            "tags": []
          },
          "execution_count": 38
        }
      ]
    },
    {
      "cell_type": "code",
      "metadata": {
        "colab": {
          "base_uri": "https://localhost:8080/"
        },
        "id": "En5Gi2vBR6pe",
        "outputId": "a92eb885-83e2-4f56-8a02-6430085b76a5"
      },
      "source": [
        "print(word2idx['Thousands'])\n",
        "print(word2idx['demonstrators'])\n",
        "print(word2idx['country'])"
      ],
      "execution_count": 39,
      "outputs": [
        {
          "output_type": "stream",
          "text": [
            "21521\n",
            "13634\n",
            "18342\n"
          ],
          "name": "stdout"
        }
      ]
    },
    {
      "cell_type": "code",
      "metadata": {
        "colab": {
          "base_uri": "https://localhost:8080/"
        },
        "id": "2hhjHlZ8RBIk",
        "outputId": "d0efb09f-2b33-443c-e17b-d0743b2dae2a"
      },
      "source": [
        "X_indexes[0]"
      ],
      "execution_count": 40,
      "outputs": [
        {
          "output_type": "execute_result",
          "data": {
            "text/plain": [
              "[21521,\n",
              " 21735,\n",
              " 13634,\n",
              " 14121,\n",
              " 2410,\n",
              " 10363,\n",
              " 24189,\n",
              " 24437,\n",
              " 10553,\n",
              " 10068,\n",
              " 18616,\n",
              " 25101,\n",
              " 20137,\n",
              " 19238,\n",
              " 22976,\n",
              " 10068,\n",
              " 16291,\n",
              " 21735,\n",
              " 34755,\n",
              " 5747,\n",
              " 4320,\n",
              " 22985,\n",
              " 18342,\n",
              " 33941,\n",
              " 318,\n",
              " 318,\n",
              " 318,\n",
              " 318,\n",
              " 318,\n",
              " 318,\n",
              " 318,\n",
              " 318,\n",
              " 318,\n",
              " 318,\n",
              " 318,\n",
              " 318,\n",
              " 318,\n",
              " 318,\n",
              " 318,\n",
              " 318,\n",
              " 318,\n",
              " 318,\n",
              " 318,\n",
              " 318,\n",
              " 318,\n",
              " 318,\n",
              " 318,\n",
              " 318,\n",
              " 318,\n",
              " 318,\n",
              " 318,\n",
              " 318,\n",
              " 318,\n",
              " 318,\n",
              " 318,\n",
              " 318,\n",
              " 318,\n",
              " 318,\n",
              " 318,\n",
              " 318]"
            ]
          },
          "metadata": {
            "tags": []
          },
          "execution_count": 40
        }
      ]
    },
    {
      "cell_type": "code",
      "metadata": {
        "colab": {
          "base_uri": "https://localhost:8080/"
        },
        "id": "sX3ZlN7ISHP-",
        "outputId": "e119fc95-bc43-4fd1-e53e-22834f4d03cc"
      },
      "source": [
        "np.array(X_indexes).shape"
      ],
      "execution_count": 41,
      "outputs": [
        {
          "output_type": "execute_result",
          "data": {
            "text/plain": [
              "(47959, 60)"
            ]
          },
          "metadata": {
            "tags": []
          },
          "execution_count": 41
        }
      ]
    },
    {
      "cell_type": "code",
      "metadata": {
        "colab": {
          "base_uri": "https://localhost:8080/"
        },
        "id": "5QM_Q9sWSUAe",
        "outputId": "90196da0-2399-4712-dbf0-6a51224be4ef"
      },
      "source": [
        "np.array(y).shape"
      ],
      "execution_count": 42,
      "outputs": [
        {
          "output_type": "execute_result",
          "data": {
            "text/plain": [
              "(47959, 60)"
            ]
          },
          "metadata": {
            "tags": []
          },
          "execution_count": 42
        }
      ]
    },
    {
      "cell_type": "code",
      "metadata": {
        "colab": {
          "base_uri": "https://localhost:8080/"
        },
        "id": "y2JOC1cu3LWu",
        "outputId": "c0d5cb5c-0cf3-4cef-bd00-daf84a47e56a"
      },
      "source": [
        "concated = []\n",
        "# concated = np.zeros((47959, 60, 3))\n",
        "\n",
        "for sentence in X_indexes:\n",
        "  for word_index in range(len(sentence)):\n",
        "    if word_index == 0:\n",
        "      concated.append( [ word2idx['PADDING'], sentence[word_index], sentence[word_index + 1] ] )\n",
        "    elif word_index == len(sentence) - 1:\n",
        "      concated.append( [ sentence[word_index - 1], sentence[word_index], word2idx['PADDING'] ] )\n",
        "    else:\n",
        "      concated.append( [ sentence[word_index - 1], sentence[word_index], sentence[word_index + 1] ] )\n",
        "\n",
        "concated = np.array(concated)\n",
        "concated.shape"
      ],
      "execution_count": 43,
      "outputs": [
        {
          "output_type": "execute_result",
          "data": {
            "text/plain": [
              "(2877540, 3)"
            ]
          },
          "metadata": {
            "tags": []
          },
          "execution_count": 43
        }
      ]
    },
    {
      "cell_type": "code",
      "metadata": {
        "id": "cG7hy2wI-P6W"
      },
      "source": [
        "# We will give each word the previous and next word as context\n",
        "concated = concated.reshape((len(X_indexes), max_len, 3))"
      ],
      "execution_count": 44,
      "outputs": []
    },
    {
      "cell_type": "code",
      "metadata": {
        "colab": {
          "base_uri": "https://localhost:8080/"
        },
        "id": "9Sa7D0_4KEer",
        "outputId": "e3fca47f-393c-432f-84e1-01f9935c2755"
      },
      "source": [
        "concated.shape"
      ],
      "execution_count": 45,
      "outputs": [
        {
          "output_type": "execute_result",
          "data": {
            "text/plain": [
              "(47959, 60, 3)"
            ]
          },
          "metadata": {
            "tags": []
          },
          "execution_count": 45
        }
      ]
    },
    {
      "cell_type": "code",
      "metadata": {
        "colab": {
          "base_uri": "https://localhost:8080/"
        },
        "id": "Yj-E0wkK-VXI",
        "outputId": "cdb22656-5bd3-44ec-9a30-bcbce8090335"
      },
      "source": [
        "concated[0]"
      ],
      "execution_count": 46,
      "outputs": [
        {
          "output_type": "execute_result",
          "data": {
            "text/plain": [
              "array([[  318, 21521, 21735],\n",
              "       [21521, 21735, 13634],\n",
              "       [21735, 13634, 14121],\n",
              "       [13634, 14121,  2410],\n",
              "       [14121,  2410, 10363],\n",
              "       [ 2410, 10363, 24189],\n",
              "       [10363, 24189, 24437],\n",
              "       [24189, 24437, 10553],\n",
              "       [24437, 10553, 10068],\n",
              "       [10553, 10068, 18616],\n",
              "       [10068, 18616, 25101],\n",
              "       [18616, 25101, 20137],\n",
              "       [25101, 20137, 19238],\n",
              "       [20137, 19238, 22976],\n",
              "       [19238, 22976, 10068],\n",
              "       [22976, 10068, 16291],\n",
              "       [10068, 16291, 21735],\n",
              "       [16291, 21735, 34755],\n",
              "       [21735, 34755,  5747],\n",
              "       [34755,  5747,  4320],\n",
              "       [ 5747,  4320, 22985],\n",
              "       [ 4320, 22985, 18342],\n",
              "       [22985, 18342, 33941],\n",
              "       [18342, 33941,   318],\n",
              "       [33941,   318,   318],\n",
              "       [  318,   318,   318],\n",
              "       [  318,   318,   318],\n",
              "       [  318,   318,   318],\n",
              "       [  318,   318,   318],\n",
              "       [  318,   318,   318],\n",
              "       [  318,   318,   318],\n",
              "       [  318,   318,   318],\n",
              "       [  318,   318,   318],\n",
              "       [  318,   318,   318],\n",
              "       [  318,   318,   318],\n",
              "       [  318,   318,   318],\n",
              "       [  318,   318,   318],\n",
              "       [  318,   318,   318],\n",
              "       [  318,   318,   318],\n",
              "       [  318,   318,   318],\n",
              "       [  318,   318,   318],\n",
              "       [  318,   318,   318],\n",
              "       [  318,   318,   318],\n",
              "       [  318,   318,   318],\n",
              "       [  318,   318,   318],\n",
              "       [  318,   318,   318],\n",
              "       [  318,   318,   318],\n",
              "       [  318,   318,   318],\n",
              "       [  318,   318,   318],\n",
              "       [  318,   318,   318],\n",
              "       [  318,   318,   318],\n",
              "       [  318,   318,   318],\n",
              "       [  318,   318,   318],\n",
              "       [  318,   318,   318],\n",
              "       [  318,   318,   318],\n",
              "       [  318,   318,   318],\n",
              "       [  318,   318,   318],\n",
              "       [  318,   318,   318],\n",
              "       [  318,   318,   318],\n",
              "       [  318,   318,   318]])"
            ]
          },
          "metadata": {
            "tags": []
          },
          "execution_count": 46
        }
      ]
    },
    {
      "cell_type": "code",
      "metadata": {
        "id": "CgluZD7EIoF-"
      },
      "source": [
        "concated_reshape_test = concated.reshape((len(X_indexes), max_len * 3))"
      ],
      "execution_count": 47,
      "outputs": []
    },
    {
      "cell_type": "code",
      "metadata": {
        "colab": {
          "base_uri": "https://localhost:8080/"
        },
        "id": "UuuWCyEVKCdi",
        "outputId": "7d4c95a5-6e5c-4a99-f965-5b37d7e29bfd"
      },
      "source": [
        "concated_reshape_test.shape"
      ],
      "execution_count": 48,
      "outputs": [
        {
          "output_type": "execute_result",
          "data": {
            "text/plain": [
              "(47959, 180)"
            ]
          },
          "metadata": {
            "tags": []
          },
          "execution_count": 48
        }
      ]
    },
    {
      "cell_type": "code",
      "metadata": {
        "colab": {
          "base_uri": "https://localhost:8080/"
        },
        "id": "OLyzi2gUIziE",
        "outputId": "1da4f2e8-af62-4ff7-e70a-bde8f2ed5735"
      },
      "source": [
        "concated_reshape_test[0]"
      ],
      "execution_count": 49,
      "outputs": [
        {
          "output_type": "execute_result",
          "data": {
            "text/plain": [
              "array([  318, 21521, 21735, 21521, 21735, 13634, 21735, 13634, 14121,\n",
              "       13634, 14121,  2410, 14121,  2410, 10363,  2410, 10363, 24189,\n",
              "       10363, 24189, 24437, 24189, 24437, 10553, 24437, 10553, 10068,\n",
              "       10553, 10068, 18616, 10068, 18616, 25101, 18616, 25101, 20137,\n",
              "       25101, 20137, 19238, 20137, 19238, 22976, 19238, 22976, 10068,\n",
              "       22976, 10068, 16291, 10068, 16291, 21735, 16291, 21735, 34755,\n",
              "       21735, 34755,  5747, 34755,  5747,  4320,  5747,  4320, 22985,\n",
              "        4320, 22985, 18342, 22985, 18342, 33941, 18342, 33941,   318,\n",
              "       33941,   318,   318,   318,   318,   318,   318,   318,   318,\n",
              "         318,   318,   318,   318,   318,   318,   318,   318,   318,\n",
              "         318,   318,   318,   318,   318,   318,   318,   318,   318,\n",
              "         318,   318,   318,   318,   318,   318,   318,   318,   318,\n",
              "         318,   318,   318,   318,   318,   318,   318,   318,   318,\n",
              "         318,   318,   318,   318,   318,   318,   318,   318,   318,\n",
              "         318,   318,   318,   318,   318,   318,   318,   318,   318,\n",
              "         318,   318,   318,   318,   318,   318,   318,   318,   318,\n",
              "         318,   318,   318,   318,   318,   318,   318,   318,   318,\n",
              "         318,   318,   318,   318,   318,   318,   318,   318,   318,\n",
              "         318,   318,   318,   318,   318,   318,   318,   318,   318,\n",
              "         318,   318,   318,   318,   318,   318,   318,   318,   318])"
            ]
          },
          "metadata": {
            "tags": []
          },
          "execution_count": 49
        }
      ]
    },
    {
      "cell_type": "markdown",
      "metadata": {
        "id": "CTil3U-GrzkO"
      },
      "source": [
        "## Experiments with shapes"
      ]
    },
    {
      "cell_type": "code",
      "metadata": {
        "id": "6xtg9iAGJFzP"
      },
      "source": [
        "from keras.layers import LSTM, Embedding, Dense, TimeDistributed, Dropout, Bidirectional\n",
        "\n",
        "emb_dim = 64\n",
        "\n",
        "concated_emb_test = Embedding(input_dim=len(word2idx), output_dim=emb_dim, input_length=max_len)(concated_reshape_test)"
      ],
      "execution_count": 50,
      "outputs": []
    },
    {
      "cell_type": "code",
      "metadata": {
        "colab": {
          "base_uri": "https://localhost:8080/"
        },
        "id": "XGcHJ8GaJ4jy",
        "outputId": "175e5783-e743-41c2-c399-9468cabfede8"
      },
      "source": [
        "concated_emb_test.shape"
      ],
      "execution_count": 51,
      "outputs": [
        {
          "output_type": "execute_result",
          "data": {
            "text/plain": [
              "TensorShape([47959, 180, 64])"
            ]
          },
          "metadata": {
            "tags": []
          },
          "execution_count": 51
        }
      ]
    },
    {
      "cell_type": "code",
      "metadata": {
        "colab": {
          "base_uri": "https://localhost:8080/"
        },
        "id": "gXnBsW9iKb6i",
        "outputId": "b257607b-6899-407b-ff44-86de3b0b8a8a"
      },
      "source": [
        "concated_emb_test[0]"
      ],
      "execution_count": 52,
      "outputs": [
        {
          "output_type": "execute_result",
          "data": {
            "text/plain": [
              "<tf.Tensor: shape=(180, 64), dtype=float32, numpy=\n",
              "array([[ 0.03534457,  0.04451981, -0.00902393, ..., -0.00227603,\n",
              "         0.02646231,  0.02061299],\n",
              "       [ 0.01509348, -0.04837545, -0.03363393, ...,  0.02352906,\n",
              "         0.01260654,  0.01038439],\n",
              "       [ 0.01010979,  0.03235884, -0.03742785, ..., -0.01771088,\n",
              "        -0.01100957, -0.02162526],\n",
              "       ...,\n",
              "       [ 0.03534457,  0.04451981, -0.00902393, ..., -0.00227603,\n",
              "         0.02646231,  0.02061299],\n",
              "       [ 0.03534457,  0.04451981, -0.00902393, ..., -0.00227603,\n",
              "         0.02646231,  0.02061299],\n",
              "       [ 0.03534457,  0.04451981, -0.00902393, ..., -0.00227603,\n",
              "         0.02646231,  0.02061299]], dtype=float32)>"
            ]
          },
          "metadata": {
            "tags": []
          },
          "execution_count": 52
        }
      ]
    },
    {
      "cell_type": "code",
      "metadata": {
        "colab": {
          "base_uri": "https://localhost:8080/"
        },
        "id": "XMimXF8ihUhM",
        "outputId": "c72b2468-77c6-450e-a2ef-7c6b1f7c499a"
      },
      "source": [
        "print(concated_emb_test[0][3])\n",
        "print(concated_emb_test[0][4])\n",
        "print(concated_emb_test[0][5])"
      ],
      "execution_count": 53,
      "outputs": [
        {
          "output_type": "stream",
          "text": [
            "tf.Tensor(\n",
            "[ 0.01509348 -0.04837545 -0.03363393  0.03922651  0.04795407 -0.03277256\n",
            "  0.03938459  0.02254761 -0.01862304 -0.01716008  0.04875249 -0.0469525\n",
            "  0.00287377  0.02798684  0.03611371 -0.00152778  0.04332879  0.03708548\n",
            " -0.02875759 -0.02810429 -0.02524658  0.03233669  0.01830686 -0.02144229\n",
            "  0.04448453 -0.00278223  0.04369456  0.03080043 -0.03113917 -0.03345579\n",
            "  0.01526972  0.00580741 -0.00408436  0.04736665 -0.02306995  0.03098805\n",
            " -0.0429945   0.0438031  -0.02586397  0.03181026  0.0435803  -0.02651472\n",
            "  0.02984457 -0.00421154  0.03078366 -0.03123108  0.0227392  -0.02876751\n",
            "  0.02416233  0.01003271  0.04890687  0.01228357 -0.04685714 -0.01878129\n",
            " -0.02203161  0.01107221 -0.02906637  0.02296456 -0.02041736 -0.04699131\n",
            "  0.03419602  0.02352906  0.01260654  0.01038439], shape=(64,), dtype=float32)\n",
            "tf.Tensor(\n",
            "[ 0.01010979  0.03235884 -0.03742785 -0.01370915 -0.04230708  0.02587647\n",
            "  0.04675475 -0.00479922 -0.03624653 -0.03493752  0.04028245 -0.01033189\n",
            "  0.04425487  0.03594773  0.03095751  0.0251668   0.04385727  0.04646704\n",
            "  0.01291946 -0.04107685 -0.00698536 -0.01208124  0.03405019 -0.03280167\n",
            " -0.01023368 -0.02668475 -0.00737353  0.01264758  0.02065153  0.03375315\n",
            "  0.03289967 -0.02110227 -0.03572856 -0.0166021   0.01237258 -0.03582798\n",
            " -0.01397055 -0.0022534   0.00406866 -0.03038039  0.01058717 -0.01189028\n",
            "  0.02512175 -0.03506666 -0.03360902 -0.01870077  0.03761498 -0.0193499\n",
            "  0.04334796 -0.04498333 -0.04495933  0.00277041 -0.03040508  0.00480462\n",
            " -0.01021079 -0.01886564  0.01242338 -0.00221686  0.03267957  0.00459418\n",
            " -0.02807768 -0.01771088 -0.01100957 -0.02162526], shape=(64,), dtype=float32)\n",
            "tf.Tensor(\n",
            "[-2.8255273e-02 -3.1990029e-02  2.6970875e-02 -3.2447182e-02\n",
            " -4.7456492e-02  1.0352898e-02  3.4974489e-02  4.2860992e-03\n",
            " -1.5911348e-03 -4.3884527e-02 -1.7187022e-02 -2.3145592e-02\n",
            "  4.3681290e-02  4.2068277e-02  4.7974419e-02  3.3531714e-02\n",
            "  3.7056472e-02 -2.7172757e-02 -5.4861903e-03  3.3538792e-02\n",
            "  4.5709107e-02  1.3745800e-03  4.6474468e-02  3.8837794e-02\n",
            "  2.5999974e-02  9.9745281e-03  1.1710621e-02  2.9891994e-02\n",
            "  2.8773282e-02  5.3997859e-03  1.0300148e-02 -1.7025936e-02\n",
            "  2.5748204e-02 -3.4470569e-02 -5.0261132e-03  1.1622906e-05\n",
            "  2.2699606e-02  2.4475504e-02  4.5166884e-02 -2.1981204e-02\n",
            "  3.3705089e-02  8.6500496e-04 -3.1079853e-02 -7.4322149e-04\n",
            "  4.8611235e-02 -5.8407187e-03 -6.8746880e-04 -3.8465034e-02\n",
            " -1.5912019e-02  1.0770954e-02  1.6179588e-02 -9.8604187e-03\n",
            "  4.8242953e-02  1.2742523e-02  3.4993853e-02  3.2717418e-02\n",
            " -2.1576440e-02  2.7104244e-03 -7.3788315e-04 -4.9000382e-03\n",
            "  2.2856403e-02 -4.0068187e-02 -4.4175923e-02 -1.3857007e-02], shape=(64,), dtype=float32)\n"
          ],
          "name": "stdout"
        }
      ]
    },
    {
      "cell_type": "code",
      "metadata": {
        "colab": {
          "base_uri": "https://localhost:8080/"
        },
        "id": "BoEhC3A6KOWR",
        "outputId": "cd8f27b1-0027-4d9f-94b2-72cf045c0e10"
      },
      "source": [
        "np.array(concated_emb_test).reshape((len(X_indexes), max_len, 64 * 3))[0][1]"
      ],
      "execution_count": 54,
      "outputs": [
        {
          "output_type": "execute_result",
          "data": {
            "text/plain": [
              "array([ 1.50934793e-02, -4.83754538e-02, -3.36339250e-02,  3.92265059e-02,\n",
              "        4.79540713e-02, -3.27725559e-02,  3.93845923e-02,  2.25476138e-02,\n",
              "       -1.86230429e-02, -1.71600804e-02,  4.87524904e-02, -4.69524972e-02,\n",
              "        2.87376717e-03,  2.79868357e-02,  3.61137055e-02, -1.52777508e-03,\n",
              "        4.33287881e-02,  3.70854847e-02, -2.87575852e-02, -2.81042941e-02,\n",
              "       -2.52465848e-02,  3.23366858e-02,  1.83068551e-02, -2.14422941e-02,\n",
              "        4.44845296e-02, -2.78222561e-03,  4.36945595e-02,  3.08004282e-02,\n",
              "       -3.11391708e-02, -3.34557891e-02,  1.52697228e-02,  5.80741093e-03,\n",
              "       -4.08435985e-03,  4.73666526e-02, -2.30699535e-02,  3.09880488e-02,\n",
              "       -4.29944992e-02,  4.38030995e-02, -2.58639697e-02,  3.18102576e-02,\n",
              "        4.35802974e-02, -2.65147220e-02,  2.98445709e-02, -4.21154499e-03,\n",
              "        3.07836644e-02, -3.12310811e-02,  2.27391981e-02, -2.87675150e-02,\n",
              "        2.41623260e-02,  1.00327134e-02,  4.89068739e-02,  1.22835748e-02,\n",
              "       -4.68571447e-02, -1.87812932e-02, -2.20316052e-02,  1.10722072e-02,\n",
              "       -2.90663727e-02,  2.29645632e-02, -2.04173569e-02, -4.69913147e-02,\n",
              "        3.41960229e-02,  2.35290565e-02,  1.26065351e-02,  1.03843920e-02,\n",
              "        1.01097934e-02,  3.23588364e-02, -3.74278538e-02, -1.37091503e-02,\n",
              "       -4.23070788e-02,  2.58764662e-02,  4.67547514e-02, -4.79922444e-03,\n",
              "       -3.62465270e-02, -3.49375233e-02,  4.02824543e-02, -1.03318915e-02,\n",
              "        4.42548655e-02,  3.59477289e-02,  3.09575088e-02,  2.51667984e-02,\n",
              "        4.38572653e-02,  4.64670397e-02,  1.29194595e-02, -4.10768501e-02,\n",
              "       -6.98535517e-03, -1.20812431e-02,  3.40501927e-02, -3.28016654e-02,\n",
              "       -1.02336779e-02, -2.66847499e-02, -7.37353414e-03,  1.26475804e-02,\n",
              "        2.06515305e-02,  3.37531455e-02,  3.28996666e-02, -2.11022738e-02,\n",
              "       -3.57285626e-02, -1.66020989e-02,  1.23725757e-02, -3.58279832e-02,\n",
              "       -1.39705539e-02, -2.25340202e-03,  4.06866148e-03, -3.03803924e-02,\n",
              "        1.05871670e-02, -1.18902810e-02,  2.51217522e-02, -3.50666642e-02,\n",
              "       -3.36090215e-02, -1.87007673e-02,  3.76149751e-02, -1.93498973e-02,\n",
              "        4.33479585e-02, -4.49833274e-02, -4.49593328e-02,  2.77041271e-03,\n",
              "       -3.04050799e-02,  4.80462238e-03, -1.02107897e-02, -1.88656449e-02,\n",
              "        1.24233849e-02, -2.21686438e-03,  3.26795690e-02,  4.59418446e-03,\n",
              "       -2.80776750e-02, -1.77108757e-02, -1.10095739e-02, -2.16252562e-02,\n",
              "       -2.82552727e-02, -3.19900289e-02,  2.69708745e-02, -3.24471816e-02,\n",
              "       -4.74564917e-02,  1.03528984e-02,  3.49744894e-02,  4.28609923e-03,\n",
              "       -1.59113482e-03, -4.38845269e-02, -1.71870217e-02, -2.31455918e-02,\n",
              "        4.36812900e-02,  4.20682766e-02,  4.79744188e-02,  3.35317142e-02,\n",
              "        3.70564722e-02, -2.71727573e-02, -5.48619032e-03,  3.35387923e-02,\n",
              "        4.57091071e-02,  1.37457997e-03,  4.64744680e-02,  3.88377942e-02,\n",
              "        2.59999745e-02,  9.97452810e-03,  1.17106214e-02,  2.98919939e-02,\n",
              "        2.87732817e-02,  5.39978594e-03,  1.03001483e-02, -1.70259364e-02,\n",
              "        2.57482044e-02, -3.44705693e-02, -5.02611324e-03,  1.16229057e-05,\n",
              "        2.26996057e-02,  2.44755037e-02,  4.51668836e-02, -2.19812039e-02,\n",
              "        3.37050892e-02,  8.65004957e-04, -3.10798530e-02, -7.43221492e-04,\n",
              "        4.86112349e-02, -5.84071875e-03, -6.87468797e-04, -3.84650342e-02,\n",
              "       -1.59120187e-02,  1.07709542e-02,  1.61795877e-02, -9.86041874e-03,\n",
              "        4.82429527e-02,  1.27425231e-02,  3.49938534e-02,  3.27174179e-02,\n",
              "       -2.15764400e-02,  2.71042436e-03, -7.37883151e-04, -4.90003824e-03,\n",
              "        2.28564031e-02, -4.00681868e-02, -4.41759229e-02, -1.38570070e-02],\n",
              "      dtype=float32)"
            ]
          },
          "metadata": {
            "tags": []
          },
          "execution_count": 54
        }
      ]
    },
    {
      "cell_type": "code",
      "metadata": {
        "id": "DnBb2xq9q8t2"
      },
      "source": [
        "test_end_shape = np.array(concated_emb_test).reshape((len(X_indexes), max_len, 64 * 3))"
      ],
      "execution_count": 55,
      "outputs": []
    },
    {
      "cell_type": "code",
      "metadata": {
        "colab": {
          "base_uri": "https://localhost:8080/"
        },
        "id": "3NBVnkyiq-0K",
        "outputId": "fc72b0d6-9b21-4f61-85dc-9c4078a00aa1"
      },
      "source": [
        "test_end_shape.shape"
      ],
      "execution_count": 56,
      "outputs": [
        {
          "output_type": "execute_result",
          "data": {
            "text/plain": [
              "(47959, 60, 192)"
            ]
          },
          "metadata": {
            "tags": []
          },
          "execution_count": 56
        }
      ]
    },
    {
      "cell_type": "code",
      "metadata": {
        "colab": {
          "base_uri": "https://localhost:8080/"
        },
        "id": "Ctx_qCwDrjzh",
        "outputId": "c5a23dcc-a490-49c7-ba11-367a75cdf214"
      },
      "source": [
        "y.shape"
      ],
      "execution_count": 57,
      "outputs": [
        {
          "output_type": "execute_result",
          "data": {
            "text/plain": [
              "(47959, 60)"
            ]
          },
          "metadata": {
            "tags": []
          },
          "execution_count": 57
        }
      ]
    },
    {
      "cell_type": "markdown",
      "metadata": {
        "id": "tuhFO15lr2lW"
      },
      "source": [
        "## Train/Test Split"
      ]
    },
    {
      "cell_type": "code",
      "metadata": {
        "id": "fU7psaFM_tEP"
      },
      "source": [
        "from sklearn.model_selection import train_test_split\n",
        "\n",
        "X_train, X_test, y_train, y_test = train_test_split(concated_reshape_test, y, test_size=0.2)"
      ],
      "execution_count": 58,
      "outputs": []
    },
    {
      "cell_type": "code",
      "metadata": {
        "colab": {
          "base_uri": "https://localhost:8080/"
        },
        "id": "tzvn_rx2G-OE",
        "outputId": "0ff788b4-27ee-49fa-ff5a-52391c169bc4"
      },
      "source": [
        "X_train.shape"
      ],
      "execution_count": 59,
      "outputs": [
        {
          "output_type": "execute_result",
          "data": {
            "text/plain": [
              "(38367, 180)"
            ]
          },
          "metadata": {
            "tags": []
          },
          "execution_count": 59
        }
      ]
    },
    {
      "cell_type": "code",
      "metadata": {
        "colab": {
          "base_uri": "https://localhost:8080/"
        },
        "id": "OOx9-eKjHApo",
        "outputId": "e32b1755-6fb0-440d-d545-2f6ccb205a71"
      },
      "source": [
        "y_train.shape"
      ],
      "execution_count": 60,
      "outputs": [
        {
          "output_type": "execute_result",
          "data": {
            "text/plain": [
              "(38367, 60)"
            ]
          },
          "metadata": {
            "tags": []
          },
          "execution_count": 60
        }
      ]
    },
    {
      "cell_type": "code",
      "metadata": {
        "id": "kaFPRgbrNfKw"
      },
      "source": [
        "X_train, X_val, y_train, y_val = train_test_split(X_train, y_train, test_size=0.01)"
      ],
      "execution_count": 61,
      "outputs": []
    },
    {
      "cell_type": "code",
      "metadata": {
        "colab": {
          "base_uri": "https://localhost:8080/"
        },
        "id": "AfPdTFJYNhAF",
        "outputId": "97b24361-7287-4c63-85bf-a4321dbb5086"
      },
      "source": [
        "X_val.shape"
      ],
      "execution_count": 62,
      "outputs": [
        {
          "output_type": "execute_result",
          "data": {
            "text/plain": [
              "(384, 180)"
            ]
          },
          "metadata": {
            "tags": []
          },
          "execution_count": 62
        }
      ]
    },
    {
      "cell_type": "code",
      "metadata": {
        "id": "UZBFpgNcqjY5"
      },
      "source": [
        "emb_dim = 64"
      ],
      "execution_count": 63,
      "outputs": []
    },
    {
      "cell_type": "code",
      "metadata": {
        "id": "q2Q3xJhGILrg"
      },
      "source": [
        "from keras.layers import LSTM, Embedding, Dense, TimeDistributed, Dropout, Bidirectional, Reshape\n",
        "from keras.models import Model, Input\n",
        "\n",
        "\n",
        "input = Input(shape=3*max_len)\n",
        "X = Embedding(input_dim=len(word2idx), output_dim=emb_dim, input_length=max_len)(input)\n",
        "X = Reshape( (max_len, 3*emb_dim) )(X)\n",
        "\n",
        "out = tf.keras.layers.Dense(n_tags, activation=\"softmax\")(X)\n",
        "\n",
        "model = Model(input, out)"
      ],
      "execution_count": 64,
      "outputs": []
    },
    {
      "cell_type": "code",
      "metadata": {
        "id": "9GQMrJQbKH_g"
      },
      "source": [
        "model.compile(optimizer=\"adam\", loss=\"sparse_categorical_crossentropy\", metrics=[\"accuracy\"])"
      ],
      "execution_count": 65,
      "outputs": []
    },
    {
      "cell_type": "code",
      "metadata": {
        "colab": {
          "base_uri": "https://localhost:8080/"
        },
        "id": "TWTQ0LdeK0xs",
        "outputId": "e451832e-a2fd-4ecd-c1ef-3ab0115f8b64"
      },
      "source": [
        "history = model.fit(X_train, y_train, validation_data=(X_val, y_val), batch_size=100, epochs=5)"
      ],
      "execution_count": 66,
      "outputs": [
        {
          "output_type": "stream",
          "text": [
            "Epoch 1/5\n",
            "380/380 [==============================] - 14s 36ms/step - loss: 1.2789 - accuracy: 0.8672 - val_loss: 0.1293 - val_accuracy: 0.9697\n",
            "Epoch 2/5\n",
            "380/380 [==============================] - 13s 34ms/step - loss: 0.1003 - accuracy: 0.9768 - val_loss: 0.0698 - val_accuracy: 0.9833\n",
            "Epoch 3/5\n",
            "380/380 [==============================] - 13s 34ms/step - loss: 0.0560 - accuracy: 0.9859 - val_loss: 0.0560 - val_accuracy: 0.9861\n",
            "Epoch 4/5\n",
            "380/380 [==============================] - 13s 34ms/step - loss: 0.0421 - accuracy: 0.9887 - val_loss: 0.0509 - val_accuracy: 0.9863\n",
            "Epoch 5/5\n",
            "380/380 [==============================] - 13s 34ms/step - loss: 0.0349 - accuracy: 0.9902 - val_loss: 0.0487 - val_accuracy: 0.9867\n"
          ],
          "name": "stdout"
        }
      ]
    },
    {
      "cell_type": "code",
      "metadata": {
        "colab": {
          "base_uri": "https://localhost:8080/"
        },
        "id": "1RGSLT2POF6q",
        "outputId": "2e482d60-a7b4-4d12-f643-77112b177d2b"
      },
      "source": [
        "model.evaluate(X_train, y_train)"
      ],
      "execution_count": 69,
      "outputs": [
        {
          "output_type": "stream",
          "text": [
            "1187/1187 [==============================] - 4s 3ms/step - loss: 0.0309 - accuracy: 0.9912\n"
          ],
          "name": "stdout"
        },
        {
          "output_type": "execute_result",
          "data": {
            "text/plain": [
              "[0.030862266197800636, 0.9911868572235107]"
            ]
          },
          "metadata": {
            "tags": []
          },
          "execution_count": 69
        }
      ]
    },
    {
      "cell_type": "code",
      "metadata": {
        "colab": {
          "base_uri": "https://localhost:8080/"
        },
        "id": "ODNBZnq8LKVd",
        "outputId": "1e80b70a-a6c7-48c8-e413-05d1d97ec705"
      },
      "source": [
        "model.evaluate(X_test, y_test)"
      ],
      "execution_count": 67,
      "outputs": [
        {
          "output_type": "stream",
          "text": [
            "300/300 [==============================] - 1s 3ms/step - loss: 0.0410 - accuracy: 0.9878\n"
          ],
          "name": "stdout"
        },
        {
          "output_type": "execute_result",
          "data": {
            "text/plain": [
              "[0.041001785546541214, 0.9878214597702026]"
            ]
          },
          "metadata": {
            "tags": []
          },
          "execution_count": 67
        }
      ]
    },
    {
      "cell_type": "code",
      "metadata": {
        "colab": {
          "base_uri": "https://localhost:8080/",
          "height": 703
        },
        "id": "AoSm2kpqLUEA",
        "outputId": "a4ff120e-2745-4b43-fb66-17e0bd310536"
      },
      "source": [
        "#History for accuracy\n",
        "plt.figure(figsize=(10,5))\n",
        "plt.plot(history.history['accuracy'])\n",
        "plt.plot(history.history['val_accuracy'])\n",
        "plt.title('model accuracy')\n",
        "plt.ylabel('accuracy')\n",
        "plt.xlabel('epoch')\n",
        "plt.legend(['Train accuracy', 'Dev accuracy'], loc='lower right')\n",
        "plt.show()\n",
        "# History for loss\n",
        "plt.figure(figsize=(10,5))\n",
        "plt.plot(history.history['loss'])\n",
        "plt.plot(history.history['val_loss'])\n",
        "plt.title('model loss')\n",
        "plt.ylabel('loss')\n",
        "plt.xlabel('epoch')\n",
        "plt.legend(['Train loss', 'Dev loss'], loc='upper right')\n",
        "plt.suptitle('Accuracy and loss for second model')\n",
        "plt.show()"
      ],
      "execution_count": 68,
      "outputs": [
        {
          "output_type": "display_data",
          "data": {
            "image/png": "[encoded data removed]",
            "text/plain": [
              "<Figure size 720x360 with 1 Axes>"
            ]
          },
          "metadata": {
            "tags": [],
            "needs_background": "light"
          }
        },
        {
          "output_type": "display_data",
          "data": {
            "image/png": "[encoded data removed]",
            "text/plain": [
              "<Figure size 720x360 with 1 Axes>"
            ]
          },
          "metadata": {
            "tags": [],
            "needs_background": "light"
          }
        }
      ]
    },
    {
      "cell_type": "markdown",
      "metadata": {
        "id": "rZAoBxa9MIlB"
      },
      "source": [
        "# LSTM + CRF\n",
        "\n",
        "Input: $x_i = emb[i] $\n",
        "\n",
        "$ z_i = LSTM(x_i) $\n",
        "\n",
        "$ y = CRF(z_i) $\n"
      ]
    },
    {
      "cell_type": "markdown",
      "metadata": {
        "id": "mJ4MMcOCNdxd"
      },
      "source": [
        "# BERT + CRF"
      ]
    }
  ]
}